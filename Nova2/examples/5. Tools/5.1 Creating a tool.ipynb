{
 "cells": [
  {
   "cell_type": "markdown",
   "metadata": {},
   "source": [
    "# 5.1 Creating a new tool"
   ]
  },
  {
   "cell_type": "markdown",
   "metadata": {},
   "source": [
    "Tools are scripts that are called by the LLM and can perform actions on behalf of the LLM. This notebook shows you how to create a new tool."
   ]
  },
  {
   "cell_type": "markdown",
   "metadata": {},
   "source": [
    "Navigate to ./Nova2/tools and create a new folder. Navigate to the folder and create a python script and \"metadata.json\"."
   ]
  },
  {
   "cell_type": "markdown",
   "metadata": {},
   "source": [
    "Open the script you created and import a few things:"
   ]
  },
  {
   "cell_type": "code",
   "execution_count": null,
   "metadata": {},
   "outputs": [],
   "source": [
    "from tool_api import ToolBaseClass, Nova"
   ]
  },
  {
   "cell_type": "markdown",
   "metadata": {},
   "source": [
    "Create a new class that inherits from \"ToolBaseClass\":"
   ]
  },
  {
   "cell_type": "code",
   "execution_count": null,
   "metadata": {},
   "outputs": [],
   "source": [
    "class Tool(ToolBaseClass):\n",
    "    \"\"\"\n",
    "    ToolBaseClass contains 2 methods you can overwrite:\n",
    "    \"\"\"\n",
    "    def on_startup(self) -> None:\n",
    "        \"\"\"\n",
    "        This method will be called once when the tool is imported.\n",
    "        Run your setup code here.\n",
    "        \"\"\"\n",
    "\n",
    "    def on_call(self, **kwargs) -> None:\n",
    "        \"\"\"\n",
    "        This method will be called when the LLM calls your tool.\n",
    "        Any parameters the LLM parses will be inside \"kwargs\".\n",
    "        Note that the system tries to cast each parameter to an appropriate type before parsing it to the tool,\n",
    "        but it is a good idea to check wether each parameter is the correct type before using it.\n",
    "        \"\"\""
   ]
  },
  {
   "cell_type": "markdown",
   "metadata": {},
   "source": [
    "Note that tools have access to almost the same API as a developer who uses the Nova framework.  \n",
    "The only exception is the \"add_to_context\" method:"
   ]
  },
  {
   "cell_type": "markdown",
   "metadata": {},
   "source": [
    "Adding to context is how a tool can parse information back to the LLM. The tool API handles adding to the context a bit different to the normal API. Here, each addition to the context automatically has the source \"ContextSource_ToolResponse\". This is how you add to context from a tool:"
   ]
  },
  {
   "cell_type": "code",
   "execution_count": null,
   "metadata": {},
   "outputs": [],
   "source": [
    "nova = Nova()\n",
    "\n",
    "nova.add_to_context(\n",
    "    name=\"Your tool name\",\n",
    "    content=\"The information you want to add to the context\",\n",
    "    id=self._tool_call_id\n",
    ")"
   ]
  },
  {
   "cell_type": "markdown",
   "metadata": {},
   "source": [
    "The tool call ID is automatically set in the background. You only need to parse it when adding to the context."
   ]
  },
  {
   "cell_type": "markdown",
   "metadata": {},
   "source": [
    "Before you can use the tool, you will also need to fill out \"metadata.json\". Here is the structure:"
   ]
  },
  {
   "cell_type": "code",
   "execution_count": null,
   "metadata": {
    "vscode": {
     "languageId": "json"
    }
   },
   "outputs": [],
   "source": [
    "{\n",
    "    \"name\": \"Your tool name\",\n",
    "    \"description\": \"Describe to the LLM what your tool does and when to use it.\",\n",
    "    \"parameters\": [\n",
    "        {\n",
    "            \"name\": \"The name of your parameter\",\n",
    "            \"description\": \"Describe to the LLM the purpose of this parameter.\",\n",
    "            \"type\": \"What datatype this parameter should be, i.e. string, float etc.\",\n",
    "            \"required\": \"True or False. Must this parameter be parsed or is it optional?\"\n",
    "        }\n",
    "    ]\n",
    "}"
   ]
  },
  {
   "cell_type": "markdown",
   "metadata": {},
   "source": [
    "If your tool does not expect any parameters, leave \"parameters\" as an empty list."
   ]
  },
  {
   "cell_type": "markdown",
   "metadata": {},
   "source": [
    "You can now use your tool. Make sure to follow the above instructions carefully or the tool will be rejected on loading. You can check wether your tool has correctly loaded by searching for it in the LLMTool list \"load_tool\" returns."
   ]
  }
 ],
 "metadata": {
  "kernelspec": {
   "display_name": "base",
   "language": "python",
   "name": "python3"
  },
  "language_info": {
   "name": "python",
   "version": "3.11.7"
  }
 },
 "nbformat": 4,
 "nbformat_minor": 2
}

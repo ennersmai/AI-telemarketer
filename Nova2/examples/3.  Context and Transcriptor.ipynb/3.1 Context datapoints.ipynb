{
 "cells": [
  {
   "cell_type": "markdown",
   "metadata": {},
   "source": [
    "# 3.1 The Context system"
   ]
  },
  {
   "cell_type": "markdown",
   "metadata": {},
   "source": [
    "Nova has a built in context management system. It stores recorded data from several different sources together with additional metadata. This can then be fed into the LLM. You can use this to give the LLM as much information as possible, as well as help it understand where particular information came from. This notebook shows you the basics of how the context system works."
   ]
  },
  {
   "cell_type": "markdown",
   "metadata": {},
   "source": [
    "Run this code so python can find the scripts. This is not required when importing Nova from outside the root folder."
   ]
  },
  {
   "cell_type": "code",
   "execution_count": null,
   "metadata": {},
   "outputs": [],
   "source": [
    "import sys\n",
    "from pathlib import Path\n",
    "module_path = Path().absolute().parent.parent\n",
    "if str(module_path) not in sys.path:\n",
    "    sys.path.append(str(module_path))"
   ]
  },
  {
   "cell_type": "code",
   "execution_count": null,
   "metadata": {},
   "outputs": [],
   "source": [
    "from nova import *\n",
    "\n",
    "nova = Nova()"
   ]
  },
  {
   "cell_type": "markdown",
   "metadata": {},
   "source": [
    "Before we hook other systems up to the context system, let's first add our custom data to the context. The context consists of a list of \"ContextDatapoint\" objects. A datapoint contains the source of the information (together with source specific metadata), the content and a timestamp."
   ]
  },
  {
   "cell_type": "code",
   "execution_count": null,
   "metadata": {},
   "outputs": [],
   "source": [
    "datapoint = ContextDatapoint(\n",
    "    source=ContextSource_User(), # ContextSource_User has no additional metadata\n",
    "    content=\"This is our custom datapoint.\"\n",
    ")"
   ]
  },
  {
   "cell_type": "markdown",
   "metadata": {},
   "source": [
    "The timestamp will be saved automatically. We can now add this datapoint to the context."
   ]
  },
  {
   "cell_type": "code",
   "execution_count": null,
   "metadata": {},
   "outputs": [],
   "source": [
    "nova.add_datapoint_to_context(datapoint=datapoint)"
   ]
  },
  {
   "cell_type": "markdown",
   "metadata": {},
   "source": [
    "The context is stored as json. This is how our datapoint looks when stored:"
   ]
  },
  {
   "cell_type": "code",
   "execution_count": null,
   "metadata": {},
   "outputs": [],
   "source": [
    "{\n",
    "    \"source\": {\n",
    "        \"type\": \"ContextSource_User\"\n",
    "    },\n",
    "    \"content\": \"This is our custom datapoint.\",\n",
    "    \"timestamp\": \"2025-03-14T14:36:45\"\n",
    "}"
   ]
  },
  {
   "cell_type": "markdown",
   "metadata": {},
   "source": [
    "Because the context is stored in a file, you still have access to it even after restarting Nova."
   ]
  }
 ],
 "metadata": {
  "kernelspec": {
   "display_name": "base",
   "language": "python",
   "name": "python3"
  },
  "language_info": {
   "codemirror_mode": {
    "name": "ipython",
    "version": 3
   },
   "file_extension": ".py",
   "mimetype": "text/x-python",
   "name": "python",
   "nbconvert_exporter": "python",
   "pygments_lexer": "ipython3",
   "version": "3.11.7"
  }
 },
 "nbformat": 4,
 "nbformat_minor": 2
}

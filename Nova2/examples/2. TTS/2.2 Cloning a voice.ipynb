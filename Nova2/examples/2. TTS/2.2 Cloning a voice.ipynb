{
 "cells": [
  {
   "cell_type": "markdown",
   "metadata": {},
   "source": [
    "# Cloning a voice"
   ]
  },
  {
   "cell_type": "markdown",
   "metadata": {},
   "source": [
    "Most TTS models allow you to clone a voice. If you use Elevenlabs, you can clone a voice via their [website](https://elevenlabs.io/app/home), but if you are using Zonos, you can easily do that on your computer."
   ]
  },
  {
   "cell_type": "markdown",
   "metadata": {},
   "source": [
    "Prepare an audio sample of the voice. The speaker should speak clearly and audible. Avoid background noises. The recording should at least be 10 seconds long. Save the recording as a .mp3 file.  \n",
    "After you have prepared a recording you can run:"
   ]
  },
  {
   "cell_type": "code",
   "execution_count": null,
   "metadata": {},
   "outputs": [],
   "source": [
    "import sys\n",
    "from pathlib import Path\n",
    "module_path = Path().absolute().parent.parent\n",
    "if str(module_path) not in sys.path:\n",
    "    sys.path.append(str(module_path))\n",
    "\n",
    "from nova import *\n",
    "nova = Nova()\n",
    "\n",
    "# Make sure a voice with your chosen name not already exists or it will be overwritten.\n",
    "nova.clone_voice(mp3file=\"/path/to/your/file.mp3\", name=\"The name of your voice\")"
   ]
  },
  {
   "cell_type": "markdown",
   "metadata": {},
   "source": [
    "After that, you can use the voice when running inference by parsing the name of your voice.  \n",
    "Note that the voice cloning only works when using the Zonos inference engine."
   ]
  }
 ],
 "metadata": {
  "kernelspec": {
   "display_name": "base",
   "language": "python",
   "name": "python3"
  },
  "language_info": {
   "name": "python",
   "version": "3.11.7"
  }
 },
 "nbformat": 4,
 "nbformat_minor": 2
}
